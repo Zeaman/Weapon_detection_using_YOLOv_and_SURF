{
 "cells": [
  {
   "attachments": {},
   "cell_type": "markdown",
   "metadata": {},
   "source": [
    "### Download required libraries"
   ]
  },
  {
   "cell_type": "code",
   "execution_count": 1,
   "metadata": {},
   "outputs": [
    {
     "name": "stdout",
     "output_type": "stream",
     "text": [
      "Note: you may need to restart the kernel to use updated packages.\n"
     ]
    },
    {
     "name": "stderr",
     "output_type": "stream",
     "text": [
      "ERROR: Invalid requirement: '#'\n"
     ]
    }
   ],
   "source": [
    "\"\"\"\n",
    "-pip install -r yolov5/requirements.txt  # install\n",
    "\"\"\""
   ]
  },
  {
   "cell_type": "code",
   "execution_count": 1,
   "metadata": {},
   "outputs": [],
   "source": [
    "# Import libraries\n",
    "import os\n",
    "import cv2\n",
    "import random\n",
    "import shutil\n",
    "import subprocess\n",
    "from PIL import Image\n",
    "from random import choice"
   ]
  },
  {
   "attachments": {},
   "cell_type": "markdown",
   "metadata": {},
   "source": [
    "### To annotate the images use LabelImg"
   ]
  },
  {
   "cell_type": "code",
   "execution_count": null,
   "metadata": {},
   "outputs": [],
   "source": [
    "\"\"\"\n",
    "Use Terminal for this cell\n",
    "1-Go to the directory where LabelImg file installed. In my case: 'D:\\AI\\weapon_detection\\weapon\\Lib\\site-packages\\labelImg'\n",
    "2-Use the code:'python labelImg.py' to open the labelImg window.\n",
    "3-Annotate all file for 5-classes ('Automatic Rifle', 'Bazooka', 'Graned Launcher', 'Knife', 'Handgun')\n",
    "\"\"\""
   ]
  },
  {
   "attachments": {},
   "cell_type": "markdown",
   "metadata": {},
   "source": [
    "### Note: Skip the following cell if the image size of the dataset is 416x416"
   ]
  },
  {
   "cell_type": "code",
   "execution_count": 54,
   "metadata": {},
   "outputs": [
    {
     "name": "stdout",
     "output_type": "stream",
     "text": [
      "All images resized!\n"
     ]
    }
   ],
   "source": [
    "# Set the desired image size\n",
    "img_size = (416, 416)\n",
    "\n",
    "input_img_dir = 'D:/AI/weapon_detection/dataset/test_old'\n",
    "output_img_dir = 'D:/AI/weapon_detection/dataset/test'\n",
    "\n",
    "# loop through all images in input directory\n",
    "for filename in os.listdir(input_img_dir):\n",
    "    if filename.endswith('.jpg') or filename.endswith('.jpeg') or filename.endswith('.png'):\n",
    "        # read image\n",
    "        img = cv2.imread(os.path.join(input_img_dir, filename))\n",
    "        # resize image\n",
    "        resized = cv2.resize(img, img_size)\n",
    "        # save resized image to output directory\n",
    "        cv2.imwrite(os.path.join(output_img_dir, filename), resized)\n",
    "        # ...\n",
    "\n",
    "print('All images resized!')"
   ]
  },
  {
   "attachments": {},
   "cell_type": "markdown",
   "metadata": {},
   "source": [
    "### Create required directories "
   ]
  },
  {
   "cell_type": "code",
   "execution_count": 2,
   "metadata": {},
   "outputs": [],
   "source": [
    "#setup dirtories for train and validation for both images and labels\n",
    "weapon_dataset_path = 'D:/AI/weapon_detection/dataset/weapon_dataset' # directory where train images will be stored\n",
    "imgs_path = 'D:/AI/weapon_detection/dataset/weapon_dataset/images' # directory where train labels will be stored\n",
    "labels_path = 'D:/AI/weapon_detection/dataset/weapon_dataset/labels' # directory where validation images will be stored\n",
    "train_img_path = 'D:/AI/weapon_detection/dataset/weapon_dataset/images/train' # directory where train images will be stored\n",
    "train_label_path = 'D:/AI/weapon_detection/dataset/weapon_dataset/labels/train' # directory where train labels will be stored\n",
    "val_img_path = 'D:/AI/weapon_detection/dataset/weapon_dataset/images/val' # directory where validation images will be stored\n",
    "val_label_path = 'D:/AI/weapon_detection/dataset/weapon_dataset/labels/val' # directory where validation images will be stored\n",
    "dataset_path = 'D:/AI/weapon_detection/dataset/datasets' # directory where all the dataset file both images and labels stored"
   ]
  },
  {
   "cell_type": "code",
   "execution_count": 3,
   "metadata": {},
   "outputs": [],
   "source": [
    "# Create requierd dirctories to store all required data for training\n",
    "if not os.path.exists(weapon_dataset_path):      # Check if train_path exists\n",
    "    os.makedirs(weapon_dataset_path)             # if not thier make one \n",
    "if not os.path.exists(imgs_path):        # Check if val_path exists\n",
    "    os.makedirs(imgs_path)               # if not thier make one\n",
    "if not os.path.exists(labels_path):    # Check if train_lable_path exists\n",
    "    os.makedirs(labels_path)           # if not thier make one\n",
    "# Create the directories for images if they don't exist\n",
    "if not os.path.exists(train_img_path):      # Check if train_path exists\n",
    "    os.makedirs(train_img_path)             # if not thier make one \n",
    "if not os.path.exists(val_img_path):        # Check if val_path exists\n",
    "    os.makedirs(val_img_path)               # if not thier make one\n",
    "# Create the directories for labels if they don't exist\n",
    "if not os.path.exists(train_label_path):    # Check if train_lable_path exists\n",
    "    os.makedirs(train_label_path)           # if not thier make one\n",
    "if not os.path.exists(val_label_path):      # Check if val_label_path exists\n",
    "    os.makedirs(val_label_path)             # if not thier make one"
   ]
  },
  {
   "cell_type": "code",
   "execution_count": 4,
   "metadata": {},
   "outputs": [],
   "source": [
    "#Split th dataset to setup ratio (val ratio = rest of the files in origin dir after splitting into train and test)\n",
    "train_ratio = 0.8\n",
    "val_ratio = 0.2"
   ]
  },
  {
   "cell_type": "code",
   "execution_count": 5,
   "metadata": {},
   "outputs": [],
   "source": [
    "#arrays to store file names\n",
    "imgs =[]\n",
    "txts =[]"
   ]
  },
  {
   "cell_type": "code",
   "execution_count": 6,
   "metadata": {},
   "outputs": [],
   "source": [
    "#total count of imgs\n",
    "total_img_count = len(os.listdir(dataset_path))/2 #Half is for training half is images 680/2=340: 340 and half/340 txt files\n",
    "\n",
    "#Sorting files to corresponding arrays\n",
    "for (dirname, dirs, files) in os.walk(dataset_path):\n",
    "    for filename in files:\n",
    "        if filename.endswith('.txt'):\n",
    "            txts.append(filename)\n",
    "        else:\n",
    "            imgs.append(filename)"
   ]
  },
  {
   "cell_type": "code",
   "execution_count": 7,
   "metadata": {},
   "outputs": [
    {
     "name": "stdout",
     "output_type": "stream",
     "text": [
      "training images are :  440\n",
      "Validation images are :  110\n"
     ]
    }
   ],
   "source": [
    "#counting range for cycles\n",
    "count_for_train = int(len(imgs)*train_ratio)\n",
    "count_for_val = int(len(imgs)*val_ratio)\n",
    "print(\"training images are : \",count_for_train)\n",
    "print(\"Validation images are : \",count_for_val)"
   ]
  },
  {
   "attachments": {},
   "cell_type": "markdown",
   "metadata": {},
   "source": [
    "### Copy Train and val files"
   ]
  },
  {
   "cell_type": "code",
   "execution_count": 8,
   "metadata": {},
   "outputs": [],
   "source": [
    "#cycle for train dir\n",
    "for x in range(count_for_train):\n",
    "\n",
    "    fileJpg = choice(imgs) # get name of random image from origin dir\n",
    "    fileXml = fileJpg[:-4] +'.txt' # get name of corresponding annotation file\n",
    "\n",
    "    #Copy both files into train dir\n",
    "    shutil.copy(os.path.join(dataset_path, fileJpg), os.path.join(train_img_path, fileJpg))\n",
    "    shutil.copy(os.path.join(dataset_path, fileXml), os.path.join(train_label_path, fileXml))\n",
    "\n",
    "\n",
    "    #remove files from arrays\n",
    "    imgs.remove(fileJpg)\n",
    "    txts.remove(fileXml)\n",
    "\n",
    "\n",
    "\n",
    "#cycle for test dir   \n",
    "for x in range(count_for_val):\n",
    "\n",
    "    fileJpg = choice(imgs) # get name of random image from origin dir\n",
    "    fileXml = fileJpg[:-4] +'.txt' # get name of corresponding annotation file\n",
    "\n",
    "    #Copy both files into train dir\n",
    "    shutil.copy(os.path.join(dataset_path, fileJpg), os.path.join(val_img_path, fileJpg))\n",
    "    shutil.copy(os.path.join(dataset_path, fileXml), os.path.join(val_label_path, fileXml))\n",
    "    \n",
    "    #remove files from arrays\n",
    "    imgs.remove(fileJpg)\n",
    "    txts.remove(fileXml)"
   ]
  }
 ],
 "metadata": {
  "kernelspec": {
   "display_name": "weapon",
   "language": "python",
   "name": "python3"
  },
  "language_info": {
   "codemirror_mode": {
    "name": "ipython",
    "version": 3
   },
   "file_extension": ".py",
   "mimetype": "text/x-python",
   "name": "python",
   "nbconvert_exporter": "python",
   "pygments_lexer": "ipython3",
   "version": "3.9.7"
  },
  "orig_nbformat": 4
 },
 "nbformat": 4,
 "nbformat_minor": 2
}
